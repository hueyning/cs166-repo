{
 "cells": [
  {
   "cell_type": "markdown",
   "metadata": {},
   "source": [
    "<h3>Sampling bias for bus waiting times</h3>\n",
    "\n",
    "Suppose the interarrival time\n",
    "for a city bus has an exponential distribution with parameter 1/λ. A passenger arrives at a uniformly random time and records the time until the\n",
    "next bus arrives. What is the expected waiting time? Use a simulation to\n",
    "get an answer. Is the answer surprising? Now suppose instead that the\n",
    "interarrival time is U(0, 2λ). How does this change the situation? (Notice\n",
    "that the expected interarrival time is λ in both cases.)"
   ]
  },
  {
   "cell_type": "code",
   "execution_count": 33,
   "metadata": {},
   "outputs": [],
   "source": [
    "#import libraries\n",
    "import numpy as np\n",
    "import pandas as pd\n",
    "import matplotlib.pyplot as plt\n",
    "%matplotlib inline\n",
    "import seaborn as sns\n",
    "sns.set()\n"
   ]
  },
  {
   "cell_type": "code",
   "execution_count": 15,
   "metadata": {},
   "outputs": [],
   "source": [
    "exp_times = []\n",
    "uni_times = []\n",
    "\n",
    "for i in range(1,1000):\n",
    "    lambda_ = i\n",
    "    beta = 1/lambda_\n",
    "    \n",
    "    exp_sample = np.random.exponential(beta)\n",
    "    exp_times.append(exp_sample)\n",
    "    \n",
    "    uni_sample = np.random.uniform(0,2*lambda_)\n",
    "    uni_times.append(uni_sample)\n",
    "    "
   ]
  },
  {
   "cell_type": "code",
   "execution_count": 30,
   "metadata": {},
   "outputs": [
    {
     "data": {
      "image/png": "[encoded data removed]",
      "text/plain": [
       "<Figure size 1152x288 with 2 Axes>"
      ]
     },
     "metadata": {},
     "output_type": "display_data"
    }
   ],
   "source": [
    "plt.figure(figsize=(16,4))\n",
    "plt.subplot(1,2,1)\n",
    "plt.title(\"Exponential waiting time samples\")\n",
    "exp_plot = plt.hist(exp_times, bins=50, color='lightseagreen')\n",
    "\n",
    "plt.subplot(1,2,2)\n",
    "plt.title(\"Uniform [0,2$\\lambda$] waiting time samples\")\n",
    "uni_plot = plt.hist(uni_times, bins=50, color='coral')\n",
    "plt.show()"
   ]
  },
  {
   "cell_type": "markdown",
   "metadata": {},
   "source": [
    "<h3>Retirement benefit projection</h3>\n",
    "\n",
    "At age 50 Fannie Mae has 150,000 USD\n",
    "invested and will be investing another 10,000 USD per year until age 70. Each\n",
    "year the investment grows according to an interest rate that is normally\n",
    "distributed with mean 8% and standard deviation 9%. At age 70, Fannie\n",
    "Mae then retires and withdraws 65,000 USD per year until death. Below is\n",
    "given a conditional death probability table. Thus if Fannie Mae lives until\n",
    "age 70, then the probability of dying before age 71 is 0.04979. Simulate\n",
    "this process 1000 times and histogram the amount of money Fannie Mae\n",
    "has at death.\n"
   ]
  },
  {
   "cell_type": "code",
   "execution_count": 32,
   "metadata": {},
   "outputs": [],
   "source": [
    "data = {\n",
    "            50: 0.00832, 51: 0.00911, 52: 0.00996, 53: 0.01089, 54: 0.01190,\n",
    "            55: 0.01300, 56: 0.01421, 57: 0.01554, 58: 0.01700, 59: 0.01859,\n",
    "            60: 0.02034, 61: 0.02224, 62: 0.02431, 63: 0.02657, 64: 0.02904,\n",
    "            65: 0.03175, 66: 0.03474, 67: 0.03804, 68: 0.04168, 69: 0.04561,\n",
    "            70: 0.04979, 71: 0.05415, 72: 0.05865, 73: 0.06326, 74: 0.06812,\n",
    "            75: 0.07337, 76: 0.07918, 77: 0.08570, 78: 0.09306, 79: 0.10119,\n",
    "            80: 0.10998, 81: 0.11935, 82: 0.12917, 83: 0.13938, 84: 0.15001,\n",
    "            85: 0.16114, 86: 0.17282, 87: 0.18513, 88: 0.19825, 89: 0.21246,\n",
    "            90: 0.22814, 91: 0.24577, 92: 0.26593, 93: 0.28930, 94: 0.31666,\n",
    "            95: 0.35124, 96: 0.40056, 97: 0.48842, 98: 0.66815, 99: 0.72000,\n",
    "            100: 0.76000, 101: 0.80000, 102: 0.85000, 103: 0.90000,\n",
    "            104: 0.96000, 105: 1.00000\n",
    "        }"
   ]
  },
  {
   "cell_type": "code",
   "execution_count": 76,
   "metadata": {},
   "outputs": [],
   "source": [
    "investment = 150000\n",
    "age = 50\n",
    "investments = []\n",
    "\n",
    "for i in range(1000):\n",
    "    investment = 150000\n",
    "    age = 50\n",
    "    for years in range(1000):\n",
    "        if np.random.uniform() < data[age]: \n",
    "            break\n",
    "        if age <= 70:\n",
    "            investment += 10000\n",
    "        age += 1\n",
    "        interest_rate = np.random.normal(0.08,0.09)\n",
    "        investment = investment * (1 + interest_rate)\n",
    "        investments.append(investment)    \n",
    "        #print(f\"Her investment at age {age} was {investment}\")"
   ]
  },
  {
   "cell_type": "code",
   "execution_count": 77,
   "metadata": {},
   "outputs": [
    {
     "data": {
      "image/png": "[encoded data removed]",
      "text/plain": [
       "<Figure size 576x288 with 1 Axes>"
      ]
     },
     "metadata": {},
     "output_type": "display_data"
    }
   ],
   "source": [
    "plt.figure(figsize=(8,4))\n",
    "plt.title(\"Distribution of Investments at time of death\")\n",
    "invest_plot = plt.hist(investments, bins=50, color='lightseagreen')"
   ]
  }
 ],
 "metadata": {
  "kernelspec": {
   "display_name": "Python 3",
   "language": "python",
   "name": "python3"
  },
  "language_info": {
   "codemirror_mode": {
    "name": "ipython",
    "version": 3
   },
   "file_extension": ".py",
   "mimetype": "text/x-python",
   "name": "python",
   "nbconvert_exporter": "python",
   "pygments_lexer": "ipython3",
   "version": "3.6.5"
  }
 },
 "nbformat": 4,
 "nbformat_minor": 2
}
