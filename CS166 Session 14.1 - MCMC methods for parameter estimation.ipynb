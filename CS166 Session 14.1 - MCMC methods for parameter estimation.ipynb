{
 "cells": [
  {
   "cell_type": "markdown",
   "metadata": {},
   "source": [
    "<h2>What is the protactinium half-decay?</h2>\n",
    "\n",
    "The proctatinium is a radioactive isotope that decays exponentially with time, whose available quantity at a given\n",
    "instant in time follows\n",
    "N(t) = N0 exp (−λt) , (1)\n",
    "where N0 is the initial amount of material and λ is the decay constant. In this exercise we will focus on a non-MCMC approach for determining the proctatinium’s half-life. The theoretical value is 1.17 minutes. Do the\n",
    "following:\n",
    "1. Download experimental data for proctatinium decay from this <a href=\"https://gist.githubusercontent.com/raquelhr/d1324510056353feeccf111d6b186a0d/raw/7b3bccc7917f3baa7ec1d919195d120083ee75e9/proctatinium_data.csv\">gist</a>. You may wish to read and store the data\n",
    "in a pandas dataframe.\n",
    "2. To find the proctatinium’s half-life, you will run 10,000 trials, and start with an initial guess λ = 1. Experimental results are known to be subject to experimental reading errors. For each fitting trial, add a gaussian\n",
    "random noise to all the $N(t)$ readings, with mean 0 and standard deviation 1.\n",
    "3. For each trial, fit the experimental points to the function\n",
    "$N(T) = 32 \\exp (−λ ∗ t)$\n",
    "and find the best value of λ by using the scipy.optimize() function. Notice that this equation means\n",
    "$N_0 = 32$.\n",
    "4. Plot the histogram of best fit values for λ.\n",
    "5. Report on the experimental estimate for the proctatinium’s half-life by using the mean best fit for λ"
   ]
  },
  {
   "cell_type": "code",
   "execution_count": 1,
   "metadata": {},
   "outputs": [],
   "source": [
    "import numpy as np\n",
    "import pandas as pd\n",
    "import matplotlib.pyplot as plt\n",
    "import seaborn as sns\n",
    "sns.set()\n"
   ]
  },
  {
   "cell_type": "code",
   "execution_count": 6,
   "metadata": {},
   "outputs": [
    {
     "name": "stdout",
     "output_type": "stream",
     "text": [
      "83\n"
     ]
    },
    {
     "data": {
      "text/html": [
       "<div>\n",
       "<style scoped>\n",
       "    .dataframe tbody tr th:only-of-type {\n",
       "        vertical-align: middle;\n",
       "    }\n",
       "\n",
       "    .dataframe tbody tr th {\n",
       "        vertical-align: top;\n",
       "    }\n",
       "\n",
       "    .dataframe thead th {\n",
       "        text-align: right;\n",
       "    }\n",
       "</style>\n",
       "<table border=\"1\" class=\"dataframe\">\n",
       "  <thead>\n",
       "    <tr style=\"text-align: right;\">\n",
       "      <th></th>\n",
       "      <th>time</th>\n",
       "      <th>count_rate</th>\n",
       "    </tr>\n",
       "  </thead>\n",
       "  <tbody>\n",
       "    <tr>\n",
       "      <th>0</th>\n",
       "      <td>0</td>\n",
       "      <td>32</td>\n",
       "    </tr>\n",
       "    <tr>\n",
       "      <th>1</th>\n",
       "      <td>5</td>\n",
       "      <td>28</td>\n",
       "    </tr>\n",
       "    <tr>\n",
       "      <th>2</th>\n",
       "      <td>10</td>\n",
       "      <td>29</td>\n",
       "    </tr>\n",
       "    <tr>\n",
       "      <th>3</th>\n",
       "      <td>15</td>\n",
       "      <td>28</td>\n",
       "    </tr>\n",
       "    <tr>\n",
       "      <th>4</th>\n",
       "      <td>20</td>\n",
       "      <td>25</td>\n",
       "    </tr>\n",
       "  </tbody>\n",
       "</table>\n",
       "</div>"
      ],
      "text/plain": [
       "   time  count_rate\n",
       "0     0          32\n",
       "1     5          28\n",
       "2    10          29\n",
       "3    15          28\n",
       "4    20          25"
      ]
     },
     "execution_count": 6,
     "metadata": {},
     "output_type": "execute_result"
    }
   ],
   "source": [
    "df = pd.read_csv(\"https://gist.githubusercontent.com/raquelhr/d1324510056353feeccf111d6b186a0d/raw/7b3bccc7917f3baa7ec1d919195d120083ee75e9/proctatinium_data.csv\")\n",
    "print(len(df))\n",
    "df.head()\n"
   ]
  },
  {
   "cell_type": "code",
   "execution_count": 59,
   "metadata": {},
   "outputs": [
    {
     "name": "stderr",
     "output_type": "stream",
     "text": [
      "/anaconda3/lib/python3.6/site-packages/ipykernel_launcher.py:4: RuntimeWarning: overflow encountered in exp\n",
      "  after removing the cwd from sys.path.\n"
     ]
    },
    {
     "data": {
      "image/png": "[encoded data removed]",
      "text/plain": [
       "<Figure size 432x288 with 1 Axes>"
      ]
     },
     "metadata": {},
     "output_type": "display_data"
    }
   ],
   "source": [
    "from scipy.optimize import curve_fit\n",
    "\n",
    "def N(t,  lambda_): \n",
    "    return 32 * np.exp(-lambda_ * t)\n",
    "\n",
    "popt, pcov = curve_fit(N, df['time'], df['count_rate'])\n",
    "\n",
    "plt.plot(df.time, df.count_rate, label = 'Empirical Data')\n",
    "plt.plot(df.time, N(df.time, popt), color='coral', alpha=0.7, label='$\\lambda$ = %5.3f' % tuple(popt))\n",
    "plt.title('Experimental Decay', fontsize = 20)\n",
    "plt.legend()\n",
    "plt.show()"
   ]
  },
  {
   "cell_type": "code",
   "execution_count": 64,
   "metadata": {},
   "outputs": [
    {
     "name": "stderr",
     "output_type": "stream",
     "text": [
      "/anaconda3/lib/python3.6/site-packages/ipykernel_launcher.py:4: RuntimeWarning: overflow encountered in exp\n",
      "  after removing the cwd from sys.path.\n"
     ]
    }
   ],
   "source": [
    "result = np.zeros(10000)\n",
    "for i in range(10000):\n",
    "    popt, pcov = curve_fit(N, df['time'], df['count_rate']+np.random.normal(0,1))\n",
    "    result[i] = popt\n",
    "    "
   ]
  },
  {
   "cell_type": "code",
   "execution_count": 65,
   "metadata": {},
   "outputs": [
    {
     "data": {
      "text/plain": [
       "(array([  38.,  467., 1702., 2915., 2574., 1458.,  600.,  188.,   45.,\n",
       "          13.]),\n",
       " array([0.00560844, 0.00632076, 0.00703309, 0.00774542, 0.00845775,\n",
       "        0.00917008, 0.0098824 , 0.01059473, 0.01130706, 0.01201939,\n",
       "        0.01273171]),\n",
       " <a list of 10 Patch objects>)"
      ]
     },
     "execution_count": 65,
     "metadata": {},
     "output_type": "execute_result"
    },
    {
     "data": {
      "image/png": "[encoded data removed]",
      "text/plain": [
       "<Figure size 432x288 with 1 Axes>"
      ]
     },
     "metadata": {},
     "output_type": "display_data"
    }
   ],
   "source": [
    "plt.title(f\"Mean best fit: {np.mean(result)}\")\n",
    "plt.hist(result)"
   ]
  }
 ],
 "metadata": {
  "kernelspec": {
   "display_name": "Python 3",
   "language": "python",
   "name": "python3"
  },
  "language_info": {
   "codemirror_mode": {
    "name": "ipython",
    "version": 3
   },
   "file_extension": ".py",
   "mimetype": "text/x-python",
   "name": "python",
   "nbconvert_exporter": "python",
   "pygments_lexer": "ipython3",
   "version": "3.6.8"
  }
 },
 "nbformat": 4,
 "nbformat_minor": 2
}
