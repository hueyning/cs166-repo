{
 "cells": [
  {
   "cell_type": "code",
   "execution_count": 14,
   "metadata": {},
   "outputs": [
    {
     "data": {
      "text/plain": [
       "[array([ 0, -1, -1,  2, -1,  4, -1, -1,  0, -1, -1,  0, -1,  3, -1,  4, -1,\n",
       "         3,  1,  5, -1,  0,  1, -1, -1,  2,  3,  3, -1,  5, -1,  3,  5,  4,\n",
       "        -1, -1, -1, -1,  5,  5, -1, -1, -1,  5,  3,  1,  2,  5,  5,  1, -1,\n",
       "        -1, -1,  1, -1,  1, -1, -1,  4,  1, -1, -1, -1, -1,  1, -1,  5,  5,\n",
       "         4, -1, -1, -1, -1, -1,  0, -1,  5,  3,  2,  4,  4,  5,  0,  0,  5,\n",
       "         2,  1, -1,  1, -1,  2,  4, -1,  2,  5, -1,  4, -1, -1, -1]),\n",
       " array([ 1, -1,  1, -1, -1,  3, -1,  4,  5,  5, -1,  2, -1, -1, -1, -1, -1,\n",
       "        -1, -1, -1,  0, -1,  1, -1, -1,  0, -1, -1, -1, -1, -1,  3, -1, -1,\n",
       "        -1, -1, -1, -1,  2, -1, -1,  2, -1,  4, -1,  2, -1, -1,  5,  5, -1,\n",
       "         1, -1,  3, -1,  1,  5, -1,  2, -1,  3,  1, -1, -1,  0,  2, -1,  0,\n",
       "        -1,  5, -1,  0,  4,  4,  5,  3, -1, -1, -1, -1, -1,  0, -1,  5,  3,\n",
       "         3,  2,  2, -1, -1,  4,  4,  5,  3, -1, -1,  5,  5, -1,  5])]"
      ]
     },
     "execution_count": 14,
     "metadata": {},
     "output_type": "execute_result"
    }
   ],
   "source": [
    "        def create_lane(car_density, no_of_lanes):\n",
    "            \n",
    "            random_indexes = np.random.choice(range(100*no_of_lanes),                   \n",
    "                                                size=int(round(car_density * 100*no_of_lanes)),                \n",
    "                                                replace=False)\n",
    "            state = -np.ones(100*no_of_lanes, dtype=int)  # -1 means empty cell\n",
    "            state[random_indexes] = np.random.randint(0, 5 + 1, \n",
    "                                                      size=len(random_indexes))\n",
    "    \n",
    "            return np.split(state,no_of_lanes)\n",
    "        \n",
    "        #create two lanes in the state array\n",
    "        \n",
    "        state = create_lane(0.5,2)\n",
    "        state"
   ]
  }
 ],
 "metadata": {
  "kernelspec": {
   "display_name": "Python 3",
   "language": "python",
   "name": "python3"
  },
  "language_info": {
   "codemirror_mode": {
    "name": "ipython",
    "version": 3
   },
   "file_extension": ".py",
   "mimetype": "text/x-python",
   "name": "python",
   "nbconvert_exporter": "python",
   "pygments_lexer": "ipython3",
   "version": "3.6.5"
  }
 },
 "nbformat": 4,
 "nbformat_minor": 2
}
