{
 "cells": [
  {
   "cell_type": "code",
   "execution_count": 2,
   "metadata": {},
   "outputs": [],
   "source": [
    "import scipy\n",
    "from matplotlib import pyplot as plt\n",
    "import numpy as np\n",
    "import seaborn as sns\n",
    "sns.set()\n",
    "\n",
    "class IsingSimulation:\n",
    "\n",
    "    J = 6.34369e-21  # Interaction constant for iron [Joule]\n",
    "    kB = 1.38065e-23  # Boltzmann constant [Joule / Kelvin]\n",
    "\n",
    "    def __init__(self, size, temperature=300):\n",
    "        '''\n",
    "        Create a new Ising model simulation. The state is initialized\n",
    "        randomly.\n",
    "\n",
    "        Arguments:\n",
    "\n",
    "            size (int) The number of cells along each dimension of the\n",
    "              square grid.\n",
    "\n",
    "            temperature (float) The temperature in Kelvin at which to\n",
    "              run the simulation. The Curie temperature for iron is\n",
    "              1043 K. Room temperature is about 300 K. Default: 300.\n",
    "        '''\n",
    "        self.size = size\n",
    "        self.temperature = temperature\n",
    "        self.state = scipy.random.choice(\n",
    "            [-1, +1], size=(self.size, self.size))\n",
    "        self.step = 0\n",
    "\n",
    "    def set_temperature(self, temp):\n",
    "        '''\n",
    "        Set the temperature of the model in Kelvin.\n",
    "        '''\n",
    "        self.temperature = float(temp)\n",
    "\n",
    "    def energy(self):\n",
    "        '''\n",
    "        Compute the energy of the current state of the model.\n",
    "        '''\n",
    "        return -self.J * (self.state * (\n",
    "            scipy.roll(self.state, 1, axis=0) +\n",
    "            scipy.roll(self.state, 1, axis=1))).sum()\n",
    "\n",
    "    def average_magnetism(self):\n",
    "        '''\n",
    "        Compute the average per-cell magnetism of the current state\n",
    "        of the model.\n",
    "        '''\n",
    "        return self.state.mean()\n",
    "\n",
    "    def update(self):\n",
    "        '''\n",
    "        Do a single cell update of the model state.\n",
    "        '''\n",
    "        # Pick a random cell to flip\n",
    "        i, j = scipy.random.randint(self.size, size=2)\n",
    "\n",
    "        # Change in energy from current state to next state\n",
    "        delta_E = 2 * self.J * self.state[i,j] * (\n",
    "            self.state[(i + 1) % self.size, j] +\n",
    "            self.state[(i - 1) % self.size, j] +\n",
    "            self.state[i, (j + 1) % self.size] +\n",
    "            self.state[i, (j - 1) % self.size])\n",
    "\n",
    "        # Log probability of changing state\n",
    "        log_p = -delta_E / (self.temperature * self.kB)\n",
    "        if scipy.log(scipy.random.uniform(0, 1)) < log_p:\n",
    "            self.state[i,j] = -self.state[i,j]\n",
    "\n",
    "        self.step += 1\n",
    "\n",
    "    def display(self):\n",
    "        '''\n",
    "        Plot the state of the model.\n",
    "        '''\n",
    "        plt.figure()\n",
    "        plt.imshow(self.state, vmin=-1, vmax=+1)\n",
    "        plt.title('Step: ' + str(self.step) + ', M = ' + str(self.average_magnetism()))"
   ]
  },
  {
   "cell_type": "code",
   "execution_count": 7,
   "metadata": {},
   "outputs": [
    {
     "data": {
      "image/png": "[encoded data removed]",
      "text/plain": [
       "<Figure size 432x288 with 1 Axes>"
      ]
     },
     "metadata": {},
     "output_type": "display_data"
    }
   ],
   "source": [
    "size = 20\n",
    "sim = IsingSimulation(size, temperature=1043)  # Ising model at the Curie temperature\n",
    "for _ in range(1000):\n",
    "    sim.update()\n",
    "sim.display()"
   ]
  },
  {
   "cell_type": "markdown",
   "metadata": {},
   "source": [
    "<h2>Task 1</h2>\n",
    "\n",
    "From the study guide, we know that the Boltzmann distribution tells us what the probability is of\n",
    "observing a state at equilibrium. At low temperatures, we expect the states where all cells have the\n",
    "same sign (either all + or all – ) to be much more probable than any other state. So if we start from\n",
    "a random initial state, we should drop into one of those two states eventually.\n",
    "\n",
    "● Randomly initialize the simulation, set the temperature to 1 (that is 1 Kelvin, which is close\n",
    "to absolute 0 — a theoretically unobtainable temperature), and wait for the simulation state\n",
    "to stabilize (this might take up to 100,000 steps).\n",
    "\n",
    "● Measure the average magnetization of the final state.\n",
    "\n",
    "● Repeat this simulation a number of times to get a probability distribution over the average\n",
    "magnetization. Theoretically, the distribution should be evenly split between +1 and –1, but\n",
    "you will find that the simulation often gets stuck in a suboptimal state with a different\n",
    "average magnetization.\n",
    "\n",
    "● Explain what would happen to the acceptance probability of the update step if the\n",
    "temperature is set to 0. This motivates why we always set the temperature at least slightly\n",
    "greater than 0.\n",
    "\n",
    "- If T == 0, we will not be able to flip the sign of cell $(i, j)$ with probability $min(1, e^{2E_{i,j}/T} )$ since ${2E_{i,j}/T}$ will return an invalid result."
   ]
  },
  {
   "cell_type": "code",
   "execution_count": 8,
   "metadata": {},
   "outputs": [],
   "source": [
    "avg_magnet_hist = []\n",
    "\n",
    "for i in range(50):\n",
    "    sim = IsingSimulation(20, temperature=1)\n",
    "    for _ in range(100000):\n",
    "        sim.update()\n",
    "    avg_magnet_hist.append(sim.average_magnetism())\n",
    "    "
   ]
  },
  {
   "cell_type": "code",
   "execution_count": 9,
   "metadata": {},
   "outputs": [
    {
     "data": {
      "text/plain": [
       "(array([15.,  0.,  2.,  4.,  4.,  9.,  2.,  0.,  0., 14.]),\n",
       " array([-1. , -0.8, -0.6, -0.4, -0.2,  0. ,  0.2,  0.4,  0.6,  0.8,  1. ]),\n",
       " <a list of 10 Patch objects>)"
      ]
     },
     "execution_count": 9,
     "metadata": {},
     "output_type": "execute_result"
    },
    {
     "data": {
      "image/png": "[encoded data removed]",
      "text/plain": [
       "<Figure size 432x288 with 1 Axes>"
      ]
     },
     "metadata": {},
     "output_type": "display_data"
    }
   ],
   "source": [
    "plt.hist(avg_magnet_hist)"
   ]
  },
  {
   "cell_type": "markdown",
   "metadata": {},
   "source": [
    "<h2>Task 2</h2>\n",
    "\n",
    "● Start from a random initial state, as before, but rather than setting the temperature to 1 K\n",
    "straight away, start from T = 2000 K and decrease it by 1 K after every 100 update steps\n",
    "until you reach a value of T = 1 K. Wait for the simulation state to stabilize.\n",
    "\n",
    "● What is the distribution over average magnetization now? (You can get even better results\n",
    "by decreasing the temperature more slowly, for example, 1 K after every 400 steps.)"
   ]
  },
  {
   "cell_type": "code",
   "execution_count": 4,
   "metadata": {},
   "outputs": [],
   "source": [
    "avg_magnet_dist = []\n",
    "temps = np.arange(2000,0,-1)\n",
    "\n",
    "sim = IsingSimulation(20, temperature=2000)\n",
    "\n",
    "for i in range(50):\n",
    "    for T in temps:\n",
    "        sim.temperature = T\n",
    "        for _ in range(100):\n",
    "            sim.update()\n",
    "    avg_magnet_dist.append(sim.average_magnetism())\n",
    "        "
   ]
  },
  {
   "cell_type": "code",
   "execution_count": 5,
   "metadata": {},
   "outputs": [
    {
     "data": {
      "text/plain": [
       "(array([17.,  0.,  0.,  0.,  0.,  2.,  1.,  0.,  0., 30.]),\n",
       " array([-1. , -0.8, -0.6, -0.4, -0.2,  0. ,  0.2,  0.4,  0.6,  0.8,  1. ]),\n",
       " <a list of 10 Patch objects>)"
      ]
     },
     "execution_count": 5,
     "metadata": {},
     "output_type": "execute_result"
    },
    {
     "data": {
      "image/png": "[encoded data removed]",
      "text/plain": [
       "<Figure size 432x288 with 1 Axes>"
      ]
     },
     "metadata": {},
     "output_type": "display_data"
    }
   ],
   "source": [
    "plt.hist(avg_magnet_dist)"
   ]
  }
 ],
 "metadata": {
  "kernelspec": {
   "display_name": "Python 3",
   "language": "python",
   "name": "python3"
  },
  "language_info": {
   "codemirror_mode": {
    "name": "ipython",
    "version": 3
   },
   "file_extension": ".py",
   "mimetype": "text/x-python",
   "name": "python",
   "nbconvert_exporter": "python",
   "pygments_lexer": "ipython3",
   "version": "3.6.8"
  }
 },
 "nbformat": 4,
 "nbformat_minor": 2
}
